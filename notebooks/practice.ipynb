{
 "cells": [
  {
   "cell_type": "code",
   "execution_count": null,
   "metadata": {},
   "outputs": [],
   "source": [
    "import os\n",
    "import sys\n",
    "\n",
    "# 设置为项目根目录（包含 data, pipline 等文件夹的目录）\n",
    "project_root = os.path.abspath(\"..\")\n",
    "os.chdir(project_root)\n",
    "sys.path.append(project_root)\n",
    "\n",
    "from pipline.pipline import pipeline_house_data\n",
    "from features_wlh.features_wlh import add_selected_features\n",
    "from utils.config import KEYWORDS\n",
    "from sklearn.model_selection import train_test_split\n",
    "from utils.path_helper import get_data_path\n",
    "\n",
    "import pandas as pd\n",
    "\n",
    "# 读取数据\n",
    "df = pd.read_csv(get_data_path(\"house_prices.csv\"))\n",
    "# 清洗数据\n",
    "df_cleaned = pipeline_house_data(df, keywords=KEYWORDS)"
   ]
  },
  {
   "cell_type": "markdown",
   "metadata": {},
   "source": [
    "Fundenmental Analysis"
   ]
  },
  {
   "cell_type": "markdown",
   "metadata": {},
   "source": [
    "Analysis with picture and Visualization"
   ]
  },
  {
   "cell_type": "markdown",
   "metadata": {},
   "source": [
    "Project  of Features and Validation"
   ]
  },
  {
   "cell_type": "code",
   "execution_count": 7,
   "metadata": {},
   "outputs": [],
   "source": [
    "My_features = [\"Bathroom\",\"Furnishing_giving\",\"floor_level_normalize\",\"has_amenities\",\n",
    "\"has_green_space\",\"has_proximity\",\"is_affordable\",\"is_basement\",\"is_deal\",\"is_gated\",\n",
    "\"is_ground\",\"is_luxury\",\"is_marketing_strong\",\"is_new\",\"is_prime_location\",\"is_resale\",\n",
    "\"is_spacious\",\"is_well_planned\",\"location_rank\",\n",
    "\"max_floor\",\"normal_Carpet_Area\",\n",
    "\"normal_price\",\n",
    "\"ownership_score\"] #一个示例，训练的时候根据特征分析自己去选"
   ]
  },
  {
   "cell_type": "code",
   "execution_count": 8,
   "metadata": {},
   "outputs": [],
   "source": [
    "df_cleaned_features = add_selected_features(df_cleaned, features_to_use = My_features)"
   ]
  },
  {
   "cell_type": "code",
   "execution_count": 9,
   "metadata": {},
   "outputs": [
    {
     "name": "stdout",
     "output_type": "stream",
     "text": [
      "0\n"
     ]
    }
   ],
   "source": [
    "print(df_cleaned_features[\"Bathroom\"].isnull().sum())"
   ]
  },
  {
   "cell_type": "markdown",
   "metadata": {},
   "source": [
    "Train Model"
   ]
  },
  {
   "cell_type": "code",
   "execution_count": 10,
   "metadata": {},
   "outputs": [],
   "source": [
    "from sklearn.ensemble import RandomForestRegressor #根据需求选择模型"
   ]
  },
  {
   "cell_type": "code",
   "execution_count": 11,
   "metadata": {},
   "outputs": [],
   "source": [
    "X = df_cleaned_features[My_features]     # 你选的这些特征列作为输入"
   ]
  },
  {
   "cell_type": "code",
   "execution_count": null,
   "metadata": {},
   "outputs": [],
   "source": [
    "from sklearn.model_selection import train_test_split\n",
    "\n",
    "X = df_cleaned_features[My_features]\n",
    "y = df_cleaned_features[\"Amount_clean\"]\n",
    "\n",
    "X_train, X_test, y_train, y_test = train_test_split(X, y, test_size=0.2, random_state=42)\n"
   ]
  },
  {
   "cell_type": "code",
   "execution_count": 14,
   "metadata": {},
   "outputs": [
    {
     "name": "stdout",
     "output_type": "stream",
     "text": [
      "Bathroom                 0\n",
      "Furnishing_giving        0\n",
      "floor_level_normalize    0\n",
      "has_amenities            0\n",
      "has_green_space          0\n",
      "has_proximity            0\n",
      "is_affordable            0\n",
      "is_basement              0\n",
      "is_deal                  0\n",
      "is_gated                 0\n",
      "is_ground                0\n",
      "is_luxury                0\n",
      "is_marketing_strong      0\n",
      "is_new                   0\n",
      "is_prime_location        0\n",
      "is_resale                0\n",
      "is_spacious              0\n",
      "is_well_planned          0\n",
      "location_rank            0\n",
      "max_floor                0\n",
      "normal_Carpet_Area       0\n",
      "normal_price             0\n",
      "ownership_score          0\n",
      "dtype: int64\n"
     ]
    }
   ],
   "source": [
    "print(X_train.isnull().sum()[X_train.isnull().sum() >=0])"
   ]
  },
  {
   "cell_type": "code",
   "execution_count": null,
   "metadata": {},
   "outputs": [
    {
     "data": {
      "text/plain": [
       "RandomForestRegressor()"
      ]
     },
     "execution_count": 15,
     "metadata": {},
     "output_type": "execute_result"
    }
   ],
   "source": [
    "\n",
    "model = RandomForestRegressor()\n",
    "model.fit(X_train, y_train)"
   ]
  },
  {
   "cell_type": "markdown",
   "metadata": {},
   "source": [
    "Evaulate Model & Parameter optimization"
   ]
  },
  {
   "cell_type": "code",
   "execution_count": 21,
   "metadata": {},
   "outputs": [],
   "source": [
    "from sklearn.metrics import mean_absolute_error, mean_squared_error, r2_score\n",
    "import numpy as np"
   ]
  },
  {
   "cell_type": "code",
   "execution_count": 22,
   "metadata": {},
   "outputs": [
    {
     "name": "stdout",
     "output_type": "stream",
     "text": [
      "MAE: 127.76\n",
      "RMSE: 16674.78\n",
      "R² Score: 0.8644\n"
     ]
    }
   ],
   "source": [
    "y_pred = model.predict(X_test)\n",
    "mae = mean_absolute_error(y_test, y_pred)\n",
    "rmse = np.sqrt(mean_squared_error(y_test, y_pred))\n",
    "r2 = r2_score(y_test, y_pred)\n",
    "    \n",
    "print(f\"MAE: {mae:.2f}\")\n",
    "print(f\"RMSE: {rmse:.2f}\")\n",
    "print(f\"R² Score: {r2:.4f}\")"
   ]
  }
 ],
 "metadata": {
  "kernelspec": {
   "display_name": "base",
   "language": "python",
   "name": "python3"
  },
  "language_info": {
   "codemirror_mode": {
    "name": "ipython",
    "version": 3
   },
   "file_extension": ".py",
   "mimetype": "text/x-python",
   "name": "python",
   "nbconvert_exporter": "python",
   "pygments_lexer": "ipython3",
   "version": "3.9.13"
  }
 },
 "nbformat": 4,
 "nbformat_minor": 2
}
