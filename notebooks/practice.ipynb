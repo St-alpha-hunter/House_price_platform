{
 "cells": [
  {
   "cell_type": "code",
   "execution_count": null,
   "metadata": {},
   "outputs": [],
   "source": [
    "from pipline.pipline import pipeline_house_data\n",
    "from model.train_model import train_model\n",
    "from model.evaluate import evaluate_model\n",
    "from utils.config import KEYWORDS\n",
    "import pandas as pd\n",
    "\n",
    "df = pd.read_csv(\"data/house_prices.csv\")\n",
    "df_cleaned = pipeline_house_data(df, keywords=KEYWORDS)\n",
    "\n",
    "model, X_test, y_test = train_model(df_cleaned)\n",
    "evaluate_model(model, X_test, y_test)"
   ]
  }
 ],
 "metadata": {
  "language_info": {
   "name": "python"
  }
 },
 "nbformat": 4,
 "nbformat_minor": 2
}
